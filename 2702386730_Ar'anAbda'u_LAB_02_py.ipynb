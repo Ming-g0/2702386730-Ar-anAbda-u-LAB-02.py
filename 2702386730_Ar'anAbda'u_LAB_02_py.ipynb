{
  "nbformat": 4,
  "nbformat_minor": 0,
  "metadata": {
    "colab": {
      "provenance": [],
      "authorship_tag": "ABX9TyPEWRJcPGxXocK59iD75KSc",
      "include_colab_link": true
    },
    "kernelspec": {
      "name": "python3",
      "display_name": "Python 3"
    },
    "language_info": {
      "name": "python"
    }
  },
  "cells": [
    {
      "cell_type": "markdown",
      "metadata": {
        "id": "view-in-github",
        "colab_type": "text"
      },
      "source": [
        "<a href=\"https://colab.research.google.com/github/Ming-g0/2702386730-Ar-anAbda-u-LAB-02.py/blob/main/2702386730_Ar'anAbda'u_LAB_02_py.ipynb\" target=\"_parent\"><img src=\"https://colab.research.google.com/assets/colab-badge.svg\" alt=\"Open In Colab\"/></a>"
      ]
    },
    {
      "cell_type": "code",
      "execution_count": 3,
      "metadata": {
        "colab": {
          "base_uri": "https://localhost:8080/"
        },
        "id": "6w-FPwXyPu2K",
        "outputId": "adb1f9f4-4421-44ff-b5be-7cff520fcd87"
      },
      "outputs": [
        {
          "output_type": "stream",
          "name": "stdout",
          "text": [
            "matriks is diagonally dominant\n"
          ]
        }
      ],
      "source": [
        "import numpy as np\n",
        "a = [[8, 3, -3], [-2, -8, 5], [3, 5, 10]]\n",
        "diag = np.diag(np.abs(a))\n",
        "off_diag = np.sum(np.abs(a), axis = 1) - diag\n",
        "if np.all(diag > off_diag):\n",
        "    print('matriks is diagonally dominant')\n",
        "else:\n",
        "    print('Not diagonally dominant')"
      ]
    },
    {
      "cell_type": "code",
      "source": [
        "x1 = 0\n",
        "x2 = 0\n",
        "x3 = 0\n",
        "epsilon = 0.01\n",
        "converged = False\n",
        "\n",
        "x_old = np.array([x1, x2, x3])"
      ],
      "metadata": {
        "id": "n91j1XnOTPOG"
      },
      "execution_count": 4,
      "outputs": []
    },
    {
      "cell_type": "code",
      "source": [
        "print('Iterasi results')\n",
        "print('k, xl, x2, x3')\n",
        "for k in range(1, 50):\n",
        "  x1 = (14-3*x2+3*x3)/8\n",
        "  x2 = (5+2*x1-5*x3)/(-8)\n",
        "  x3 = (-8-3*x1-5*x2)/(10)\n",
        "  x = np.array([x1, x2, x3])\n",
        "  dx = np.sqrt(np.dot(x-x_old, x-x_old))\n",
        "\n",
        "  print(\"%d, %.4f, %.4f, %.4f\"%(k, x1, x2, x3))\n",
        "  if dx < epsilon :\n",
        "    converged = True\n",
        "    print('Converged!')\n",
        "    break\n",
        "  x_old=x\n",
        "\n",
        "if not converged:\n",
        "  print('Not converged, increase the # of itrations')"
      ],
      "metadata": {
        "colab": {
          "base_uri": "https://localhost:8080/"
        },
        "id": "GSiGrG8iTPYm",
        "outputId": "6f3a4224-f742-4641-906f-ad4f6dd43b36"
      },
      "execution_count": 5,
      "outputs": [
        {
          "output_type": "stream",
          "name": "stdout",
          "text": [
            "Iterasi results\n",
            "k, xl, x2, x3\n",
            "1, 1.7500, -1.0625, -0.7937\n",
            "2, 1.8508, -1.5838, -0.5633\n",
            "3, 2.1327, -1.5103, -0.6847\n",
            "4, 2.0596, -1.5678, -0.6340\n",
            "5, 2.1002, -1.5463, -0.6569\n",
            "6, 2.0835, -1.5565, -0.6468\n",
            "7, 2.0911, -1.5520, -0.6513\n",
            "Converged!\n"
          ]
        }
      ]
    },
    {
      "cell_type": "code",
      "source": [
        "import numpy as np\n",
        "A = np.array([[4, 3, -5], [-2, -4, 5], [8, 8, 0]])\n",
        "y = np.array([2, 5, -3])\n",
        "\n",
        "x=np.linalg.solve(A,y)\n",
        "print(x)"
      ],
      "metadata": {
        "colab": {
          "base_uri": "https://localhost:8080/"
        },
        "id": "Uj5sjQ_UbFVf",
        "outputId": "9914bb64-4a6c-43bc-bb6c-3347b7a05b6e"
      },
      "execution_count": 6,
      "outputs": [
        {
          "output_type": "stream",
          "name": "stdout",
          "text": [
            "[ 2.20833333 -2.58333333 -0.18333333]\n"
          ]
        }
      ]
    },
    {
      "cell_type": "markdown",
      "source": [
        "A_inv = np.linalg.inv(a)\n",
        "x = np.dot(A_inv, y)\n",
        "print(x)\n"
      ],
      "metadata": {
        "id": "PRMv-4-pcI0N"
      }
    },
    {
      "cell_type": "code",
      "source": [
        "A_inv = np.linalg.inv(A)\n",
        "x = np.dot(A_inv, y)\n",
        "print(x)\n"
      ],
      "metadata": {
        "colab": {
          "base_uri": "https://localhost:8080/"
        },
        "id": "E1XWBW4BcNet",
        "outputId": "4a89c6ae-5687-4eaf-b1cb-96bfface4a6c"
      },
      "execution_count": 7,
      "outputs": [
        {
          "output_type": "stream",
          "name": "stdout",
          "text": [
            "[ 2.20833333 -2.58333333 -0.18333333]\n"
          ]
        }
      ]
    },
    {
      "cell_type": "code",
      "source": [
        "import numpy as np\n",
        "from scipy import optimize\n",
        "import matplotlib.pyplot as plt\n",
        "\n",
        "plt.style.use('seaborn-poster')\n",
        "\n",
        "x = np.linspace(0, 1, 101)\n",
        "y = 1 + x + x + np.random.random(len(x))\n",
        "A = np.vstack([x, np.ones(len(x))]).T\n",
        "y = y[:, np.newaxis]\n",
        "alpha = np.dot((np.dot(np.linalg.inv(np.dot(A.T, A)),A.T)),y)\n",
        "print(alpha)"
      ],
      "metadata": {
        "colab": {
          "base_uri": "https://localhost:8080/"
        },
        "id": "0jVk3z9-dVw8",
        "outputId": "923e4d95-c0ef-4cd3-a035-49d517d6e8dd"
      },
      "execution_count": 8,
      "outputs": [
        {
          "output_type": "stream",
          "name": "stdout",
          "text": [
            "[[1.89026645]\n",
            " [1.56305685]]\n"
          ]
        },
        {
          "output_type": "stream",
          "name": "stderr",
          "text": [
            "<ipython-input-8-4bfe3e005f37>:5: MatplotlibDeprecationWarning: The seaborn styles shipped by Matplotlib are deprecated since 3.6, as they no longer correspond to the styles shipped by seaborn. However, they will remain available as 'seaborn-v0_8-<style>'. Alternatively, directly use the seaborn API instead.\n",
            "  plt.style.use('seaborn-poster')\n"
          ]
        }
      ]
    },
    {
      "cell_type": "code",
      "source": [
        "plt.figure(figsize= (10,8))\n",
        "plt.plot(x,y,'b.')\n",
        "plt.plot(x, alpha[0]*x+alpha[1], 'r')\n",
        "plt.xlabel('x')\n",
        "plt.ylabel('y')\n",
        "plt.show()"
      ],
      "metadata": {
        "colab": {
          "base_uri": "https://localhost:8080/",
          "height": 533
        },
        "id": "S7UakVvjg36w",
        "outputId": "df6ad1d0-c5b5-4181-acbf-da103191688f"
      },
      "execution_count": 8,
      "outputs": [
        {
          "output_type": "display_data",
          "data": {
            "text/plain": [
              "<Figure size 1000x800 with 1 Axes>"
            ],
            "image/png": "[encoded data removed]"
          },
          "metadata": {}
        }
      ]
    },
    {
      "cell_type": "code",
      "source": [
        "pinv = np.linalg.pinv(A)\n",
        "alpha = pinv.dot(y)\n",
        "print (alpha)"
      ],
      "metadata": {
        "id": "VivDbSQzj11V",
        "colab": {
          "base_uri": "https://localhost:8080/"
        },
        "outputId": "fde7b69b-b2eb-4228-cd46-4844f12e4089"
      },
      "execution_count": 9,
      "outputs": [
        {
          "output_type": "stream",
          "name": "stdout",
          "text": [
            "[[1.89026645]\n",
            " [1.56305685]]\n"
          ]
        }
      ]
    }
  ]
}